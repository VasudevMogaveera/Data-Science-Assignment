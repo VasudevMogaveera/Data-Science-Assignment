{
 "cells": [
  {
   "cell_type": "code",
   "execution_count": 4,
   "id": "4fe1d217",
   "metadata": {},
   "outputs": [],
   "source": [
    "import numpy as np "
   ]
  },
  {
   "cell_type": "code",
   "execution_count": 5,
   "id": "ea7003f3",
   "metadata": {},
   "outputs": [
    {
     "data": {
      "text/plain": [
       "array([12, 23, 34, 45])"
      ]
     },
     "execution_count": 5,
     "metadata": {},
     "output_type": "execute_result"
    }
   ],
   "source": [
    "arr = np.array([12,23,34,45]) \n",
    "arr"
   ]
  },
  {
   "cell_type": "code",
   "execution_count": 6,
   "id": "3c5e369b",
   "metadata": {},
   "outputs": [
    {
     "data": {
      "text/plain": [
       "'l'"
      ]
     },
     "execution_count": 6,
     "metadata": {},
     "output_type": "execute_result"
    }
   ],
   "source": [
    "d = np.dtype(\"int32\")      # We created the nre data type    \n",
    "d.char "
   ]
  },
  {
   "cell_type": "code",
   "execution_count": 13,
   "id": "9d88639c",
   "metadata": {},
   "outputs": [
    {
     "data": {
      "text/plain": [
       "array([12.+0.j, 23.+0.j, 34.+0.j, 45.+0.j])"
      ]
     },
     "execution_count": 13,
     "metadata": {},
     "output_type": "execute_result"
    }
   ],
   "source": [
    "arr = np.array([12,23,34,45], dtype = np.int16) \n",
    "arr = arr.astype(\"complex128\")  \n",
    "arr"
   ]
  },
  {
   "cell_type": "code",
   "execution_count": 15,
   "id": "49b50d2c",
   "metadata": {},
   "outputs": [
    {
     "name": "stdout",
     "output_type": "stream",
     "text": [
      "<U8\n"
     ]
    }
   ],
   "source": [
    "string1 = np.array([\"Vasudev\", \"XYZ\", \"ABC\"])\n",
    "print(string1.dtype)"
   ]
  },
  {
   "cell_type": "code",
   "execution_count": 16,
   "id": "1f02e458",
   "metadata": {},
   "outputs": [
    {
     "data": {
      "text/plain": [
       "numpy.datetime64('2023-12-12')"
      ]
     },
     "execution_count": 16,
     "metadata": {},
     "output_type": "execute_result"
    }
   ],
   "source": [
    "np.datetime64(\"2023-12-12\")"
   ]
  },
  {
   "cell_type": "code",
   "execution_count": 17,
   "id": "7c4d1f98",
   "metadata": {},
   "outputs": [
    {
     "name": "stdout",
     "output_type": "stream",
     "text": [
      "[False False False False False  True  True  True  True  True]\n"
     ]
    }
   ],
   "source": [
    "import numpy as np\n",
    "numbers = np.array([1, 2, 3, 4, 5, 6, 7, 8, 9, 10])\n",
    "condition = numbers > 5 \n",
    "print(condition)"
   ]
  },
  {
   "cell_type": "code",
   "execution_count": 18,
   "id": "6d2aeece",
   "metadata": {},
   "outputs": [
    {
     "data": {
      "text/plain": [
       "array([ 1,  2,  3,  4,  5,  6,  7,  8,  9, 10], dtype=int8)"
      ]
     },
     "execution_count": 18,
     "metadata": {},
     "output_type": "execute_result"
    }
   ],
   "source": [
    "np.byte(numbers)\n"
   ]
  },
  {
   "cell_type": "code",
   "execution_count": 19,
   "id": "66ee5c48",
   "metadata": {},
   "outputs": [
    {
     "name": "stdout",
     "output_type": "stream",
     "text": [
      "442413.3920089205\n"
     ]
    }
   ],
   "source": [
    "print(np.exp(13))"
   ]
  },
  {
   "cell_type": "code",
   "execution_count": 20,
   "id": "db2261e4",
   "metadata": {},
   "outputs": [
    {
     "data": {
      "text/plain": [
       "dtype('complex128')"
      ]
     },
     "execution_count": 20,
     "metadata": {},
     "output_type": "execute_result"
    }
   ],
   "source": [
    "complex_1 = np.clongdouble(8+5j) \n",
    "complex_1.dtype"
   ]
  },
  {
   "cell_type": "code",
   "execution_count": 21,
   "id": "1c3bf768",
   "metadata": {},
   "outputs": [
    {
     "data": {
      "text/plain": [
       "dtype('int32')"
      ]
     },
     "execution_count": 21,
     "metadata": {},
     "output_type": "execute_result"
    }
   ],
   "source": [
    "h = np.arange(0,10) \n",
    "h.dtype"
   ]
  },
  {
   "cell_type": "code",
   "execution_count": 23,
   "id": "700b24f4",
   "metadata": {},
   "outputs": [
    {
     "data": {
      "text/plain": [
       "dtype('<U7')"
      ]
     },
     "execution_count": 23,
     "metadata": {},
     "output_type": "execute_result"
    }
   ],
   "source": [
    "arr_1 = np.array([\"Vasudev\",\"XYZ\",\"ABC\",\"JKL\"]) \n",
    "arr_1.dtype"
   ]
  },
  {
   "cell_type": "code",
   "execution_count": 25,
   "id": "2238e42e",
   "metadata": {},
   "outputs": [
    {
     "name": "stderr",
     "output_type": "stream",
     "text": [
      "C:\\Users\\Ganesh Mogaveera\\AppData\\Local\\Temp\\ipykernel_8532\\977347928.py:1: DeprecationWarning: NumPy will stop allowing conversion of out-of-bound Python integers to integer arrays.  The conversion of 323 to int8 will fail in the future.\n",
      "For the old behavior, usually:\n",
      "    np.array(value).astype(dtype)`\n",
      "will give the desired result (the cast overflows).\n",
      "  arr = np.array([12,31,323,2323,], dtype = np.int8 )\n",
      "C:\\Users\\Ganesh Mogaveera\\AppData\\Local\\Temp\\ipykernel_8532\\977347928.py:1: DeprecationWarning: NumPy will stop allowing conversion of out-of-bound Python integers to integer arrays.  The conversion of 2323 to int8 will fail in the future.\n",
      "For the old behavior, usually:\n",
      "    np.array(value).astype(dtype)`\n",
      "will give the desired result (the cast overflows).\n",
      "  arr = np.array([12,31,323,2323,], dtype = np.int8 )\n"
     ]
    },
    {
     "data": {
      "text/plain": [
       "dtype('int8')"
      ]
     },
     "execution_count": 25,
     "metadata": {},
     "output_type": "execute_result"
    }
   ],
   "source": [
    "arr = np.array([12,31,323,2323,], dtype = np.int8 ) \n",
    "arr.dtype"
   ]
  },
  {
   "cell_type": "code",
   "execution_count": 27,
   "id": "cf3e674e",
   "metadata": {},
   "outputs": [
    {
     "data": {
      "text/plain": [
       "(7,)"
      ]
     },
     "execution_count": 27,
     "metadata": {},
     "output_type": "execute_result"
    }
   ],
   "source": [
    "# changing the datatype\n",
    "j = np.array([12,23,34,435,45,56,45]) \n",
    "j.shape"
   ]
  },
  {
   "cell_type": "code",
   "execution_count": 36,
   "id": "90708b67",
   "metadata": {},
   "outputs": [
    {
     "name": "stdout",
     "output_type": "stream",
     "text": [
      "[35 57 88 90 90]\n"
     ]
    }
   ],
   "source": [
    "arr1 = np.array([12,23,34,45,56]) \n",
    "arr2 = np.array([23,34,54,45,34]) \n",
    "print(np.add(arr1,arr2))\n"
   ]
  },
  {
   "cell_type": "code",
   "execution_count": 39,
   "id": "950d3435",
   "metadata": {},
   "outputs": [
    {
     "name": "stdout",
     "output_type": "stream",
     "text": [
      "[0.52173913 0.67647059 0.62962963 1.         1.64705882]\n"
     ]
    }
   ],
   "source": [
    " print(np.divide(arr1,arr2))\n"
   ]
  },
  {
   "cell_type": "code",
   "execution_count": 42,
   "id": "c5e3e31a",
   "metadata": {},
   "outputs": [
    {
     "name": "stdout",
     "output_type": "stream",
     "text": [
      "[ 276  782 1836 2025 1904]\n"
     ]
    }
   ],
   "source": [
    "print(np.multiply(arr1,arr2))"
   ]
  },
  {
   "cell_type": "code",
   "execution_count": 41,
   "id": "8fd7bb80",
   "metadata": {},
   "outputs": [
    {
     "name": "stdout",
     "output_type": "stream",
     "text": [
      "[-11 -11 -20   0  22]\n"
     ]
    }
   ],
   "source": [
    "\n",
    "print(np.subtract(arr1,arr2))"
   ]
  },
  {
   "cell_type": "code",
   "execution_count": 43,
   "id": "29c2b18f",
   "metadata": {},
   "outputs": [
    {
     "data": {
      "text/plain": [
       "array([[401, 426, 295],\n",
       "       [736, 866, 692],\n",
       "       [ 53,  68,  67]])"
      ]
     },
     "execution_count": 43,
     "metadata": {},
     "output_type": "execute_result"
    }
   ],
   "source": [
    "mat1 = np.array([[12,23,44],[43,65,65],[7,6,3]]) \n",
    "mat2 = np.array([[2,2,4],[3,6,5],[7,6,3]]) \n",
    "a = np.dot(mat1,mat2)  \n",
    "a"
   ]
  },
  {
   "cell_type": "code",
   "execution_count": 44,
   "id": "5bea3ba3",
   "metadata": {},
   "outputs": [
    {
     "data": {
      "text/plain": [
       "array([[401, 426, 295],\n",
       "       [736, 866, 692],\n",
       "       [ 53,  68,  67]])"
      ]
     },
     "execution_count": 44,
     "metadata": {},
     "output_type": "execute_result"
    }
   ],
   "source": [
    "a = np.matmul(mat1,mat2)  \n",
    "a"
   ]
  },
  {
   "cell_type": "code",
   "execution_count": 46,
   "id": "d7c57d06",
   "metadata": {},
   "outputs": [
    {
     "data": {
      "text/plain": [
       "array([[401, 736,  53],\n",
       "       [426, 866,  68],\n",
       "       [295, 692,  67]])"
      ]
     },
     "execution_count": 46,
     "metadata": {},
     "output_type": "execute_result"
    }
   ],
   "source": [
    "a.T                                # Transpose of the matrix"
   ]
  },
  {
   "cell_type": "code",
   "execution_count": 48,
   "id": "eb351fd3",
   "metadata": {},
   "outputs": [
    {
     "name": "stdout",
     "output_type": "stream",
     "text": [
      "[('Mahendra', 'Model 3', 'Electric', 22) ('kia', 'GT', 'Petrol', 12)\n",
      " ('Maruti Suzuki', 'Q3', 'Disel', 13)]\n"
     ]
    }
   ],
   "source": [
    "array_vehicle = np.array([('Mahendra', 'Model 3', 'Electric', 22),\n",
    "                          ('kia', 'GT', 'Petrol', 12),\n",
    "                         (\"Maruti Suzuki\",\"Q3\",\"Disel\",13)], \n",
    "                             \n",
    "                          dtype=[('company', (np.str_, 20)),\n",
    "                                 ('model', np.str_, 20),\n",
    "                                 ('fuel_mode', np.str_, 20),\n",
    "                                 ('mileage', np.int32)])\n",
    "print(array_vehicle)"
   ]
  },
  {
   "cell_type": "code",
   "execution_count": 49,
   "id": "b5eca7d3",
   "metadata": {},
   "outputs": [
    {
     "data": {
      "text/plain": [
       "array([('', 0), ('', 0), ('', 0), ('', 0)],\n",
       "      dtype=[('name', '<U9'), ('age', '<i8')])"
      ]
     },
     "execution_count": 49,
     "metadata": {},
     "output_type": "execute_result"
    }
   ],
   "source": [
    "structured_array = np.zeros(4, dtype = [('name', 'U9'), ('age', 'i8')])\n",
    "structured_array\n"
   ]
  },
  {
   "cell_type": "code",
   "execution_count": 52,
   "id": "1a44df16",
   "metadata": {},
   "outputs": [],
   "source": [
    "def square_elements(arr):\n",
    "    return np.square(arr)"
   ]
  },
  {
   "cell_type": "code",
   "execution_count": 53,
   "id": "1e91ae56",
   "metadata": {},
   "outputs": [
    {
     "name": "stdout",
     "output_type": "stream",
     "text": [
      "Original Array: [1 2 3 4 5]\n",
      "Squared Array: [ 1  4  9 16 25]\n"
     ]
    }
   ],
   "source": [
    "# Example usage:\n",
    "my_array = np.array([1, 2, 3, 4, 5])\n",
    "result = square_elements(my_array)\n",
    "\n",
    "print(\"Original Array:\", my_array)\n",
    "print(\"Squared Array:\", result)"
   ]
  },
  {
   "cell_type": "code",
   "execution_count": 54,
   "id": "f22d8c4a",
   "metadata": {},
   "outputs": [
    {
     "name": "stdout",
     "output_type": "stream",
     "text": [
      "offsets: [0, 2, 4, 8, 16, 24]\n",
      "itemsize: 32\n"
     ]
    }
   ],
   "source": [
    "def print_offsetsAnditemsize(d):\n",
    "    print(\"offsets:\", [d.fields[name][1] for name in d.names])\n",
    "    print(\"itemsize:\", d.itemsize)\n",
    "print_offsetsAnditemsize(np.dtype('u2, u1, i4, u1, i8, u2',align=True))"
   ]
  },
  {
   "cell_type": "code",
   "execution_count": 55,
   "id": "489b1773",
   "metadata": {},
   "outputs": [
    {
     "data": {
      "text/plain": [
       "array([('', 0), ('', 0), ('', 0), ('', 0)],\n",
       "      dtype=[('name', '<U9'), ('age', '<i8')])"
      ]
     },
     "execution_count": 55,
     "metadata": {},
     "output_type": "execute_result"
    }
   ],
   "source": [
    "structured_array = np.zeros(4, dtype = [('name', 'U9'), ('age', 'i8')])\n",
    "structured_array"
   ]
  },
  {
   "cell_type": "code",
   "execution_count": 56,
   "id": "3676a972",
   "metadata": {},
   "outputs": [
    {
     "data": {
      "text/plain": [
       "array([(0., b'0.0', b''), (0., b'0.0', b''), (0., b'0.0', b'')],\n",
       "      dtype=[('x', '<f4'), ('y', 'S3'), ('z', 'O')])"
      ]
     },
     "execution_count": 56,
     "metadata": {},
     "output_type": "execute_result"
    }
   ],
   "source": [
    "struct_arr = np.zeros(3, dtype=[('a', 'i8'), ('b', 'f4'), ('c', 'S3')])\n",
    "structured_array = np.ones(3, dtype=[('x', 'f4'), ('y', 'S3'), ('z', 'O')])\n",
    "structured_array[:]=struct_arr\n",
    "structured_array"
   ]
  },
  {
   "cell_type": "code",
   "execution_count": 60,
   "id": "1cf88744",
   "metadata": {},
   "outputs": [
    {
     "data": {
      "text/plain": [
       "array([(0., b'0.0', b''), (0., b'0.0', b''), (0., b'0.0', b'')],\n",
       "      dtype=[('x', '<f4'), ('y', 'S3'), ('z', 'O')])"
      ]
     },
     "execution_count": 60,
     "metadata": {},
     "output_type": "execute_result"
    }
   ],
   "source": [
    " structured_array = np.zeros(3, dtype=[('a', 'i8'), ('b', 'f4'), ('c', 'S3')])\n",
    "structured_array_with_broadcasting = np.ones(3, dtype=[('x', 'f4'), ('y', 'S3'), ('z', 'O')])\n",
    "structured_array_with_broadcasting[:]=structured_array[1:2]\n",
    "structured_array_with_broadcasting"
   ]
  },
  {
   "cell_type": "code",
   "execution_count": 61,
   "id": "757fd1d4",
   "metadata": {},
   "outputs": [
    {
     "data": {
      "text/plain": [
       "array([(2., b'2.0', b'2'), (1., b'1', 1), (1., b'1', 1)],\n",
       "      dtype=[('x', '<f4'), ('y', 'S3'), ('z', 'O')])"
      ]
     },
     "execution_count": 61,
     "metadata": {},
     "output_type": "execute_result"
    }
   ],
   "source": [
    "structured_array = np.array([(0,0,0),(2,2,2),(3,3,3)], dtype=[('a', 'i8'), ('b', 'f4'), ('c', 'S3')])\n",
    "structured_array_no_broadcasting = np.ones(3, dtype=[('x', 'f4'), ('y', 'S3'), ('z', 'O')])\n",
    "structured_array_no_broadcasting[0:1]=structured_array[1:2]\n",
    "structured_array_no_broadcasting"
   ]
  },
  {
   "cell_type": "code",
   "execution_count": 64,
   "id": "4d9e7a65",
   "metadata": {},
   "outputs": [
    {
     "name": "stdout",
     "output_type": "stream",
     "text": [
      "[('Vilas', '5000', '1234567890', 'Python Developer')\n",
      " ('ABC', '23442', '49949494', 'SEO')]\n"
     ]
    }
   ],
   "source": [
    "# Define a custom data type using np.dtype\n",
    "t = np.dtype([(\"name\", \"U20\"),     \n",
    "              (\"salary\", \"U7\"),   \n",
    "              (\"phn_no\", \"U10\"),   \n",
    "              (\"Post\", \"U30\")])    \n",
    "\n",
    "# Create a NumPy array with the defined data type\n",
    "info = np.array([(\"Vilas\", 5000, 1234567890, \"Python Developer\"),\n",
    "                (\"ABC\",23442,49949494,\"SEO\")], dtype=t) \n",
    "print(info)\n"
   ]
  },
  {
   "cell_type": "code",
   "execution_count": 70,
   "id": "d4986013",
   "metadata": {},
   "outputs": [
    {
     "name": "stdout",
     "output_type": "stream",
     "text": [
      "adadada@.com\n"
     ]
    }
   ],
   "source": [
    "# accesing the element from the list\n",
    "t = np.dtype([(\"Name\",\"U20\"), \n",
    "             (\"E-mail\",\"U20\"),\n",
    "              (\"Salary\",\"U10\"),\n",
    "              (\"Age\",\"U8\")]) \n",
    "\n",
    "info = np.array([(\"Vasudev\",\"adadada@.com\",34000,23),\n",
    "                 (\"ABC\",\"Vasudev@43.com\",33232,33)]) \n",
    "print(info[0][1])"
   ]
  },
  {
   "cell_type": "code",
   "execution_count": 73,
   "id": "439e5a77",
   "metadata": {},
   "outputs": [
    {
     "data": {
      "text/plain": [
       "('Sharda', 3, 27.)"
      ]
     },
     "execution_count": 73,
     "metadata": {},
     "output_type": "execute_result"
    }
   ],
   "source": [
    "t = np.dtype([('name', 'U10'), \n",
    "            ('age', 'i4'), \n",
    "            ('weight', 'f4')])\n",
    "            \n",
    "# Creating a structured array by using our dtype:\n",
    "arr = np.rec.array([('Aman', 9, 81.0), \n",
    "            ('Sharda', 3, 27.0)],\n",
    "            dtype = t)\n",
    "arr[1]"
   ]
  },
  {
   "cell_type": "code",
   "execution_count": 74,
   "id": "3f46b15e",
   "metadata": {},
   "outputs": [
    {
     "name": "stdout",
     "output_type": "stream",
     "text": [
      "Original Matrix A:\n",
      "[[4 7]\n",
      " [2 6]]\n",
      "[[ 0.6 -0.7]\n",
      " [-0.2  0.4]]\n"
     ]
    }
   ],
   "source": [
    "A = np.array([[4, 7], [2, 6]])\n",
    "A_inv = np.linalg.inv(A) \n",
    "print(\"Original Matrix A:\")\n",
    "print(A)\n",
    "print(A_inv)"
   ]
  },
  {
   "cell_type": "code",
   "execution_count": 75,
   "id": "702182d6",
   "metadata": {},
   "outputs": [
    {
     "name": "stdout",
     "output_type": "stream",
     "text": [
      "Matrix A:\n",
      "[[1 2]\n",
      " [3 4]]\n",
      "\n",
      "Frobenius Norm of A: 5.477225575051661\n"
     ]
    }
   ],
   "source": [
    "import numpy as np\n",
    "\n",
    "# Create a matrix\n",
    "A = np.array([[1, 2], [3, 4]])\n",
    "\n",
    "# Calculate the Frobenius norm of the matrix\n",
    "frobenius_norm = np.linalg.norm(A)\n",
    "\n",
    "print(\"Matrix A:\")\n",
    "print(A)\n",
    "\n",
    "print(\"\\nFrobenius Norm of A:\", frobenius_norm)"
   ]
  },
  {
   "cell_type": "code",
   "execution_count": 77,
   "id": "abce198b",
   "metadata": {},
   "outputs": [
    {
     "data": {
      "image/png": "[encoded data removed]",
      "text/plain": [
       "<Figure size 640x480 with 1 Axes>"
      ]
     },
     "metadata": {},
     "output_type": "display_data"
    }
   ],
   "source": [
    "import numpy as np\n",
    "import matplotlib.pyplot as plt\n",
    "x = np.linspace(0, 1, 10)\n",
    "y = np.linspace(0, 1, 10)\n",
    "u = np.cos(2 * np.pi * x)\n",
    "v = np.sin(2 * np.pi * y)\n",
    "plt.quiver(x, y, u, v, scale=5, color='r', width=0.007)\n",
    "plt.xlim(0, 1)\n",
    "plt.ylim(0, 1)\n",
    "plt.xlabel('X-axis')\n",
    "plt.ylabel('Y-axis')\n",
    "plt.show()"
   ]
  },
  {
   "cell_type": "code",
   "execution_count": 78,
   "id": "6b7b8112",
   "metadata": {},
   "outputs": [
    {
     "data": {
      "text/plain": [
       "array([[1, 5],\n",
       "       [2, 4],\n",
       "       [3, 3],\n",
       "       [4, 2]])"
      ]
     },
     "execution_count": 78,
     "metadata": {},
     "output_type": "execute_result"
    }
   ],
   "source": [
    "# Transpose of the matrix \n",
    "a = np.array([[1,2,3,4],[5,4,3,2]]) \n",
    "a.T"
   ]
  },
  {
   "cell_type": "code",
   "execution_count": 79,
   "id": "7f3d5a58",
   "metadata": {},
   "outputs": [
    {
     "name": "stdout",
     "output_type": "stream",
     "text": [
      "Eigenvalues:\n",
      "[1.12701665 8.87298335]\n",
      "\n",
      "Eigenvectors:\n",
      "[[-0.92511345 -0.82071729]\n",
      " [ 0.37969079 -0.57133452]]\n"
     ]
    }
   ],
   "source": [
    "A = np.array([[4, 7], [2, 6]])\n",
    "eigenvalues, eigenvectors = np.linalg.eig(A)\n",
    "\n",
    "print(\"Eigenvalues:\")\n",
    "print(eigenvalues)\n",
    "\n",
    "print(\"\\nEigenvectors:\")\n",
    "print(eigenvectors)"
   ]
  },
  {
   "cell_type": "code",
   "execution_count": 80,
   "id": "d4b08c4f",
   "metadata": {},
   "outputs": [
    {
     "name": "stdout",
     "output_type": "stream",
     "text": [
      "Original Eigenvalues:\n",
      "[3. 2.]\n",
      "\n",
      "Sorted Eigenvalues:\n",
      "[2. 3.]\n"
     ]
    }
   ],
   "source": [
    "matrix = np.array([[4, -2], [1, 1]])\n",
    "eigenvalues, eigenvectors = np.linalg.eig(matrix)\n",
    "sorted_eigenvalues = np.sort(eigenvalues)\n",
    "print(\"Original Eigenvalues:\")\n",
    "print(eigenvalues)\n",
    "print(\"\\nSorted Eigenvalues:\")\n",
    "print(sorted_eigenvalues)"
   ]
  },
  {
   "cell_type": "code",
   "execution_count": 81,
   "id": "94828780",
   "metadata": {},
   "outputs": [
    {
     "name": "stdout",
     "output_type": "stream",
     "text": [
      "Bitwise AND:\n",
      "[ 1  2 13 16]\n",
      "\n",
      "Bitwise OR:\n",
      "[ 7 15 15 20]\n",
      "\n",
      "Bitwise XOR:\n",
      "[ 6 13  2  4]\n",
      "\n",
      "Bitwise NOT:\n",
      "[250 245 240 235]\n"
     ]
    }
   ],
   "source": [
    "import numpy as np\n",
    "\n",
    "arr1 = np.array([5, 10, 15, 20], dtype=np.uint8)  # Using uint8 for illustration\n",
    "arr2 = np.array([3, 7, 13, 16], dtype=np.uint8)\n",
    "\n",
    "result_and = np.bitwise_and(arr1, arr2)\n",
    "print(\"Bitwise AND:\")\n",
    "print(result_and)\n",
    "\n",
    "\n",
    "result_or = np.bitwise_or(arr1, arr2)\n",
    "print(\"\\nBitwise OR:\")\n",
    "print(result_or)\n",
    "\n",
    "\n",
    "result_xor = np.bitwise_xor(arr1, arr2)\n",
    "print(\"\\nBitwise XOR:\")\n",
    "print(result_xor)\n",
    "\n",
    "result_not = np.bitwise_not(arr1)\n",
    "print(\"\\nBitwise NOT:\")\n",
    "print(result_not)\n"
   ]
  },
  {
   "cell_type": "code",
   "execution_count": 82,
   "id": "5bcecbbd",
   "metadata": {},
   "outputs": [
    {
     "name": "stdout",
     "output_type": "stream",
     "text": [
      "Original Binary Array:\n",
      "[[1 0 1 1]\n",
      " [0 1 0 0]\n",
      " [1 1 1 0]]\n",
      "\n",
      "Packed Bits (along axis=1):\n",
      "[[176]\n",
      " [ 64]\n",
      " [224]]\n"
     ]
    }
   ],
   "source": [
    "binary_array = np.array([[1, 0, 1, 1],\n",
    "                         [0, 1, 0, 0],\n",
    "                         [1, 1, 1, 0]], dtype=np.uint8)\n",
    "\n",
    "packed_bits = np.packbits(binary_array, axis=1)\n",
    "\n",
    "print(\"Original Binary Array:\")\n",
    "print(binary_array)\n",
    "\n",
    "print(\"\\nPacked Bits (along axis=1):\")\n",
    "print(packed_bits)"
   ]
  },
  {
   "cell_type": "code",
   "execution_count": 83,
   "id": "e9b41806",
   "metadata": {},
   "outputs": [
    {
     "name": "stdout",
     "output_type": "stream",
     "text": [
      "Original Binary Array:\n",
      "[[1 0 1 1]\n",
      " [0 1 0 0]\n",
      " [1 1 1 0]]\n",
      "\n",
      "Packed Bits (along axis=1):\n",
      "[[0 0 0 0 0 0 0 1 0 0 0 0 0 0 0 0 0 0 0 0 0 0 0 1 0 0 0 0 0 0 0 1]\n",
      " [0 0 0 0 0 0 0 0 0 0 0 0 0 0 0 1 0 0 0 0 0 0 0 0 0 0 0 0 0 0 0 0]\n",
      " [0 0 0 0 0 0 0 1 0 0 0 0 0 0 0 1 0 0 0 0 0 0 0 1 0 0 0 0 0 0 0 0]]\n"
     ]
    }
   ],
   "source": [
    "binary_array = np.array([[1, 0, 1, 1],\n",
    "                         [0, 1, 0, 0],\n",
    "                         [1, 1, 1, 0]], dtype=np.uint8)\n",
    "\n",
    "packed_bits = np.unpackbits(binary_array, axis=1)\n",
    "\n",
    "print(\"Original Binary Array:\")\n",
    "print(binary_array)\n",
    "\n",
    "print(\"\\nPacked Bits (along axis=1):\")\n",
    "print(packed_bits)"
   ]
  },
  {
   "cell_type": "code",
   "execution_count": 84,
   "id": "1424cc0a",
   "metadata": {},
   "outputs": [
    {
     "name": "stdout",
     "output_type": "stream",
     "text": [
      "Binary representation of 5 is : 101\n",
      "Left_shift(5,3) :  40\n",
      "Binary representation of Left_shift(5,3)  is : 101000\n"
     ]
    }
   ],
   "source": [
    "a = np.left_shift(5, 3)\n",
    "print('Binary representation of 5 is :', np.binary_repr(5))\n",
    "print(\"Left_shift(5,3) : \",a)\n",
    "print('Binary representation of Left_shift(5,3)  is :', np.binary_repr(a))"
   ]
  },
  {
   "cell_type": "code",
   "execution_count": 85,
   "id": "d46bfc05",
   "metadata": {},
   "outputs": [
    {
     "name": "stdout",
     "output_type": "stream",
     "text": [
      "Binary representation of 80 is : 1010000\n",
      "Right_shift(80,3) :  10\n",
      "Binary representation of Right_shift(80,3)  is : 1010\n"
     ]
    }
   ],
   "source": [
    "a = np.right_shift(80, 3)\n",
    "print('Binary representation of 80 is :', np.binary_repr(80))\n",
    "print(\"Right_shift(80,3) : \",a)\n",
    "print('Binary representation of Right_shift(80,3)  is :', np.binary_repr(a))"
   ]
  },
  {
   "cell_type": "code",
   "execution_count": 86,
   "id": "bbc38737",
   "metadata": {},
   "outputs": [
    {
     "data": {
      "text/plain": [
       "array([1.        , 0.5       , 0.33333333, 0.25      , 0.2       ])"
      ]
     },
     "execution_count": 86,
     "metadata": {},
     "output_type": "execute_result"
    }
   ],
   "source": [
    "arr = np.array([1,2,3,4,5],dtype = np.float64) \n",
    "np.reciprocal(arr)"
   ]
  },
  {
   "cell_type": "code",
   "execution_count": 87,
   "id": "99cdc0fb",
   "metadata": {},
   "outputs": [
    {
     "data": {
      "text/plain": [
       "array([ 0.84147098,  0.90929743,  0.14112001, -0.7568025 , -0.95892427])"
      ]
     },
     "execution_count": 87,
     "metadata": {},
     "output_type": "execute_result"
    }
   ],
   "source": [
    "arr = np.array([1,2,3,4,5],dtype = np.float64) \n",
    "np.sin(arr)"
   ]
  },
  {
   "cell_type": "code",
   "execution_count": 88,
   "id": "8e93c126",
   "metadata": {},
   "outputs": [
    {
     "data": {
      "text/plain": [
       "array([ 0.54030231, -0.41614684, -0.9899925 , -0.65364362,  0.28366219])"
      ]
     },
     "execution_count": 88,
     "metadata": {},
     "output_type": "execute_result"
    }
   ],
   "source": [
    "arr = np.array([1,2,3,4,5],dtype = np.float64) \n",
    "np.cos(arr)"
   ]
  },
  {
   "cell_type": "code",
   "execution_count": 89,
   "id": "97d91d92",
   "metadata": {},
   "outputs": [
    {
     "data": {
      "text/plain": [
       "array([ 1.55740772, -2.18503986, -0.14254654,  1.15782128, -3.38051501])"
      ]
     },
     "execution_count": 89,
     "metadata": {},
     "output_type": "execute_result"
    }
   ],
   "source": [
    "arr = np.array([1,2,3,4,5],dtype = np.float64) \n",
    "np.tan(arr)\n"
   ]
  },
  {
   "cell_type": "code",
   "execution_count": 90,
   "id": "11e82b98",
   "metadata": {},
   "outputs": [
    {
     "data": {
      "text/plain": [
       "array([0.78539816, 1.10714872, 1.24904577, 1.32581766, 1.37340077])"
      ]
     },
     "execution_count": 90,
     "metadata": {},
     "output_type": "execute_result"
    }
   ],
   "source": [
    "arr = np.array([1,2,3,4,5],dtype = np.float64) \n",
    "np.arctan(arr)"
   ]
  },
  {
   "cell_type": "code",
   "execution_count": 94,
   "id": "f6356f47",
   "metadata": {},
   "outputs": [
    {
     "data": {
      "text/plain": [
       "array([ 1.,  2.,  4.,  5., 74.])"
      ]
     },
     "execution_count": 94,
     "metadata": {},
     "output_type": "execute_result"
    }
   ],
   "source": [
    "arr = np.array([1.43,2.434,3.5653,4.5353,73.53],dtype = np.float64) \n",
    "np.around(arr)"
   ]
  },
  {
   "cell_type": "code",
   "execution_count": 95,
   "id": "a59cbe47",
   "metadata": {},
   "outputs": [
    {
     "data": {
      "text/plain": [
       "array([ 1.4,  2.4,  3.6,  4.5, 73.5])"
      ]
     },
     "execution_count": 95,
     "metadata": {},
     "output_type": "execute_result"
    }
   ],
   "source": [
    "arr = np.array([1.43,2.434,3.5653,4.5353,73.53],dtype = np.float64) \n",
    "np.round(arr,1)"
   ]
  },
  {
   "cell_type": "code",
   "execution_count": 96,
   "id": "18bc92eb",
   "metadata": {},
   "outputs": [
    {
     "data": {
      "text/plain": [
       "array([ 2.,  3.,  4.,  5., 74.])"
      ]
     },
     "execution_count": 96,
     "metadata": {},
     "output_type": "execute_result"
    }
   ],
   "source": [
    "arr = np.array([1.43,2.434,3.5653,4.5353,73.53],dtype = np.float64) \n",
    "np.ceil(arr)"
   ]
  },
  {
   "cell_type": "code",
   "execution_count": 97,
   "id": "d790bb12",
   "metadata": {},
   "outputs": [
    {
     "data": {
      "text/plain": [
       "array([ 1.,  2.,  3.,  4., 73.])"
      ]
     },
     "execution_count": 97,
     "metadata": {},
     "output_type": "execute_result"
    }
   ],
   "source": [
    "arr = np.array([1.43,2.434,3.5653,4.5353,73.53],dtype = np.float64) \n",
    "np.floor(arr)"
   ]
  },
  {
   "cell_type": "code",
   "execution_count": 98,
   "id": "87c16062",
   "metadata": {},
   "outputs": [
    {
     "data": {
      "text/plain": [
       "array([ 1.,  2.,  3.,  4., 73.])"
      ]
     },
     "execution_count": 98,
     "metadata": {},
     "output_type": "execute_result"
    }
   ],
   "source": [
    "arr = np.array([1.43,2.434,3.5653,4.5353,73.53],dtype = np.float64) \n",
    "np.trunc(arr)\n"
   ]
  },
  {
   "cell_type": "code",
   "execution_count": 99,
   "id": "1ea1f22b",
   "metadata": {},
   "outputs": [
    {
     "name": "stdout",
     "output_type": "stream",
     "text": [
      "Original Array:\n",
      "[1. +0.j 2.5+0.j 3. +4.j 5.5+2.j 7. +0.j]\n",
      "\n",
      "Is Real Number:\n",
      "[ True  True False False  True]\n"
     ]
    }
   ],
   "source": [
    "array = np.array([1.0, 2.5, 3.0 + 4.0j, 5.5 + 2.0j, 7.0])\n",
    "is_real = np.isreal(array)\n",
    "\n",
    "print(\"Original Array:\")\n",
    "print(array)\n",
    "\n",
    "print(\"\\nIs Real Number:\")\n",
    "print(is_real)"
   ]
  },
  {
   "cell_type": "code",
   "execution_count": 100,
   "id": "7d744668",
   "metadata": {},
   "outputs": [
    {
     "data": {
      "text/plain": [
       "array([1. -0.j, 2.5-0.j, 3. -4.j, 5.5-2.j, 7. -0.j])"
      ]
     },
     "execution_count": 100,
     "metadata": {},
     "output_type": "execute_result"
    }
   ],
   "source": [
    "array = np.array([1.0, 2.5, 3.0 + 4.0j, 5.5 + 2.0j, 7.0])\n",
    "np.conjugate(array)"
   ]
  },
  {
   "cell_type": "code",
   "execution_count": 101,
   "id": "455fc8fc",
   "metadata": {},
   "outputs": [
    {
     "data": {
      "text/plain": [
       "19"
      ]
     },
     "execution_count": 101,
     "metadata": {},
     "output_type": "execute_result"
    }
   ],
   "source": [
    "a = np.arange(10,20) \n",
    "arr = np.array(a) \n",
    "arr.max()"
   ]
  },
  {
   "cell_type": "code",
   "execution_count": 102,
   "id": "23eacb70",
   "metadata": {},
   "outputs": [
    {
     "data": {
      "text/plain": [
       "14.5"
      ]
     },
     "execution_count": 102,
     "metadata": {},
     "output_type": "execute_result"
    }
   ],
   "source": [
    "a = np.arange(10,20) \n",
    "arr = np.array(a) \n",
    "arr.min()\n",
    "\n",
    "\n",
    "a = np.arange(10,20) \n",
    "arr = np.array(a) \n",
    "np.median(arr)"
   ]
  },
  {
   "cell_type": "code",
   "execution_count": 103,
   "id": "be7c8d07",
   "metadata": {},
   "outputs": [
    {
     "data": {
      "text/plain": [
       "14.5"
      ]
     },
     "execution_count": 103,
     "metadata": {},
     "output_type": "execute_result"
    }
   ],
   "source": [
    "a = np.arange(10,20) \n",
    "arr = np.array(a) \n",
    "arr.mean()"
   ]
  },
  {
   "cell_type": "code",
   "execution_count": 104,
   "id": "e735fa79",
   "metadata": {},
   "outputs": [
    {
     "data": {
      "text/plain": [
       "8.25"
      ]
     },
     "execution_count": 104,
     "metadata": {},
     "output_type": "execute_result"
    }
   ],
   "source": [
    "a = np.arange(10,20) \n",
    "arr = np.array(a) \n",
    "arr.var()"
   ]
  },
  {
   "cell_type": "code",
   "execution_count": 105,
   "id": "acc79f65",
   "metadata": {},
   "outputs": [
    {
     "data": {
      "text/plain": [
       "8.25"
      ]
     },
     "execution_count": 105,
     "metadata": {},
     "output_type": "execute_result"
    }
   ],
   "source": [
    "a = np.arange(10,20) \n",
    "arr = np.array(a) \n",
    "arr.var()\n"
   ]
  },
  {
   "cell_type": "code",
   "execution_count": 106,
   "id": "2aefa961",
   "metadata": {},
   "outputs": [
    {
     "name": "stdout",
     "output_type": "stream",
     "text": [
      "Original Array:\n",
      "[10 11 12 13 14 15 16 17 18 19]\n",
      "\n",
      "Percentiles: [12.25 14.5  16.75]\n"
     ]
    }
   ],
   "source": [
    "a = np.arange(10, 20)\n",
    "arr = np.array(a)\n",
    "percentiles = np.percentile(arr, [25, 50, 75])\n",
    "print(\"Original Array:\")\n",
    "print(arr)\n",
    "print(\"\\nPercentiles:\", percentiles)"
   ]
  },
  {
   "cell_type": "code",
   "execution_count": 107,
   "id": "10f10b15",
   "metadata": {},
   "outputs": [
    {
     "name": "stdout",
     "output_type": "stream",
     "text": [
      "Our strings array are : ['Hello'] and ['World'] \n",
      "Addition of two string arrays : ['HelloWorld']\n"
     ]
    }
   ],
   "source": [
    "a = \"Hello\"\n",
    "b = \"World\"\n",
    "str_array1 = np.array([a])\n",
    "str_array2 = np.array([b])\n",
    "print( f\"Our strings array are : {str_array1} and {str_array2} \" )\n",
    "print( f\"Addition of two string arrays : { np.char.add( str_array1, str_array2 ) }\")"
   ]
  },
  {
   "cell_type": "code",
   "execution_count": 108,
   "id": "c98d868d",
   "metadata": {},
   "outputs": [
    {
     "name": "stdout",
     "output_type": "stream",
     "text": [
      "Array 1:\n",
      "[1 2 3 4]\n",
      "\n",
      "Array 2:\n",
      "[5 6 7 8]\n",
      "\n",
      "Result of Element-wise Multiplication:\n",
      "[ 5 12 21 32]\n"
     ]
    }
   ],
   "source": [
    "arr1 = np.array([1, 2, 3, 4])\n",
    "arr2 = np.array([5, 6, 7, 8])\n",
    "result = np.multiply(arr1, arr2)\n",
    "print(\"Array 1:\")\n",
    "print(arr1)\n",
    "print(\"\\nArray 2:\")\n",
    "print(arr2)\n",
    "print(\"\\nResult of Element-wise Multiplication:\")\n",
    "print(result)\n"
   ]
  },
  {
   "cell_type": "code",
   "execution_count": 109,
   "id": "f56102bd",
   "metadata": {},
   "outputs": [
    {
     "name": "stdout",
     "output_type": "stream",
     "text": [
      "Result using % Operator:\n",
      "[1 0 1 0 0]\n",
      "\n",
      "Result using numpy.mod:\n",
      "[1 0 1 0 0]\n"
     ]
    }
   ],
   "source": [
    "arr = np.array([10, 21, 34, 45, 57])\n",
    "\n",
    "result_modulo_operator = arr % 3\n",
    "print(\"Result using % Operator:\")\n",
    "print(result_modulo_operator)\n",
    "result_mod_function = np.mod(arr, 3)\n",
    "print(\"\\nResult using numpy.mod:\")\n",
    "print(result_mod_function)"
   ]
  },
  {
   "cell_type": "code",
   "execution_count": 110,
   "id": "bc8d4133",
   "metadata": {},
   "outputs": [
    {
     "name": "stdout",
     "output_type": "stream",
     "text": [
      "Original Array:\n",
      "['apple' 'banana' 'cherry']\n",
      "\n",
      "Centered Array:\n",
      "['*******apple********' '*******banana*******' '*******cherry*******']\n"
     ]
    }
   ],
   "source": [
    "arr = np.array([\"apple\", \"banana\", \"cherry\"])\n",
    "centered_arr = np.char.center(arr, width=20, fillchar='*')\n",
    "print(\"Original Array:\")\n",
    "print(arr)\n",
    "print(\"\\nCentered Array:\")\n",
    "print(centered_arr)"
   ]
  },
  {
   "cell_type": "code",
   "execution_count": 111,
   "id": "23f9df17",
   "metadata": {},
   "outputs": [
    {
     "name": "stdout",
     "output_type": "stream",
     "text": [
      "Original Array:\n",
      "['hello' 'world' 'numpy' 'char']\n",
      "\n",
      "Result after Add:\n",
      "['hello!' 'world!' 'numpy!' 'char!']\n",
      "\n",
      "Result after Upper:\n",
      "['HELLO' 'WORLD' 'NUMPY' 'CHAR']\n",
      "\n",
      "Result after Strip:\n",
      "['hello' 'world' 'numpy' 'char']\n",
      "\n",
      "Result after Split:\n",
      "[list(['he', '', 'o']) list(['wor', 'd']) list(['numpy']) list(['char'])]\n"
     ]
    }
   ],
   "source": [
    "import numpy as np\n",
    "\n",
    "arr = np.array(['hello', 'world', 'numpy', 'char'])\n",
    "\n",
    "# Example usage of string functions\n",
    "result_add = np.char.add(arr, '!')\n",
    "result_upper = np.char.upper(arr)\n",
    "result_strip = np.char.strip(arr)\n",
    "result_split = np.char.split(arr, 'l')\n",
    "\n",
    "# Print the results\n",
    "print(\"Original Array:\")\n",
    "print(arr)\n",
    "\n",
    "print(\"\\nResult after Add:\")\n",
    "print(result_add)\n",
    "\n",
    "print(\"\\nResult after Upper:\")\n",
    "print(result_upper)\n",
    "\n",
    "print(\"\\nResult after Strip:\")\n",
    "print(result_strip)\n",
    "\n",
    "print(\"\\nResult after Split:\")\n",
    "print(result_split)"
   ]
  },
  {
   "cell_type": "code",
   "execution_count": 112,
   "id": "68803910",
   "metadata": {},
   "outputs": [
    {
     "name": "stdout",
     "output_type": "stream",
     "text": [
      "Original Array:\n",
      "['tab\\texample' 'another\\ttab\\tstring' 'numpy\\t\\tarray']\n",
      "\n",
      "Array with Expanded Tabs:\n",
      "['tab     example' 'another tab     string' 'numpy           array']\n"
     ]
    }
   ],
   "source": [
    "import numpy as np\n",
    "\n",
    "def expand_tabs(arr, tabsize=8):\n",
    "    def expand_tabs_single(s):\n",
    "        return s.expandtabs(tabsize)\n",
    "    vectorized_expand_tabs = np.vectorize(expand_tabs_single)\n",
    "    expanded_arr = vectorized_expand_tabs(arr)\n",
    "\n",
    "    return expanded_arr\n",
    "\n",
    "arr = np.array(['tab\\texample', 'another\\ttab\\tstring', 'numpy\\t\\tarray'])\n",
    "expanded_arr = expand_tabs(arr)\n",
    "\n",
    "print(\"Original Array:\")\n",
    "print(arr)\n",
    "\n",
    "print(\"\\nArray with Expanded Tabs:\")\n",
    "print(expanded_arr)"
   ]
  },
  {
   "cell_type": "code",
   "execution_count": 113,
   "id": "e955ed78",
   "metadata": {},
   "outputs": [
    {
     "name": "stdout",
     "output_type": "stream",
     "text": [
      "Original Array:\n",
      "['Hello' 'World' 'NumPy']\n",
      "\n",
      "Joined String:\n",
      "['H e l l o' 'W o r l d' 'N u m P y']\n"
     ]
    }
   ],
   "source": [
    "arr = np.array(['Hello', 'World', 'NumPy'])\n",
    "joined_str = np.char.join(' ', arr)\n",
    "print(\"Original Array:\")\n",
    "print(arr)\n",
    "print(\"\\nJoined String:\")\n",
    "print(joined_str)\n"
   ]
  },
  {
   "cell_type": "code",
   "execution_count": 114,
   "id": "76391414",
   "metadata": {},
   "outputs": [
    {
     "name": "stdout",
     "output_type": "stream",
     "text": [
      "Original Array:\n",
      "['apple' 'banana' 'cherry' 'date']\n",
      "\n",
      "Left-justified Array (Width = 10):\n",
      "['apple     ' 'banana    ' 'cherry    ' 'date      ']\n"
     ]
    }
   ],
   "source": [
    "arr = np.array(['apple', 'banana', 'cherry', 'date'])\n",
    "width = 10\n",
    "left_justified_arr = np.array([f\"{s:<{width}}\" for s in arr])\n",
    "\n",
    "print(\"Original Array:\")\n",
    "print(arr)\n",
    "\n",
    "print(f\"\\nLeft-justified Array (Width = {width}):\")\n",
    "print(left_justified_arr)"
   ]
  },
  {
   "cell_type": "code",
   "execution_count": 116,
   "id": "a26bec91",
   "metadata": {},
   "outputs": [
    {
     "name": "stdout",
     "output_type": "stream",
     "text": [
      "Original Array:\n",
      "['Hello' 'WORLD' 'NuMPy']\n",
      "\n",
      "Lowercased Array:\n",
      "['hello' 'world' 'numpy']\n"
     ]
    }
   ],
   "source": [
    "import numpy as np\n",
    "arr = np.array(['Hello', 'WORLD', 'NuMPy'])\n",
    "lowercased_arr = np.char.lower(arr)\n",
    "print(\"Original Array:\")\n",
    "print(arr)\n",
    "print(\"\\nLowercased Array:\")\n",
    "print(lowercased_arr)\n"
   ]
  },
  {
   "cell_type": "code",
   "execution_count": 118,
   "id": "ccc010d7",
   "metadata": {},
   "outputs": [
    {
     "name": "stdout",
     "output_type": "stream",
     "text": [
      "Original Array:\n",
      "['apple  ' 'banana ' 'cherry  ' 'date   ']\n",
      "\n",
      "Right-stripped Array:\n",
      "['apple' 'banana' 'cherry' 'date']\n"
     ]
    }
   ],
   "source": [
    " arr = np.array(['apple  ', 'banana ', 'cherry  ', 'date   '])\n",
    "right_stripped_arr = np.char.rstrip(arr)\n",
    "print(\"Original Array:\")\n",
    "print(arr)\n",
    "print(\"\\nRight-stripped Array:\")\n",
    "print(right_stripped_arr)"
   ]
  },
  {
   "cell_type": "code",
   "execution_count": 119,
   "id": "afad065d",
   "metadata": {},
   "outputs": [
    {
     "name": "stdout",
     "output_type": "stream",
     "text": [
      "Original Array:\n",
      "['apple' 'banana' 'cherry' 'date']\n",
      "\n",
      "Array after Replacement:\n",
      "['apple' 'bXXa' 'cherry' 'date']\n"
     ]
    }
   ],
   "source": [
    "arr = np.array(['apple', 'banana', 'cherry', 'date'])\n",
    "replaced_arr = np.char.replace(arr, 'an', 'X')\n",
    "print(\"Original Array:\")\n",
    "print(arr)\n",
    "print(\"\\nArray after Replacement:\")\n",
    "print(replaced_arr)"
   ]
  },
  {
   "cell_type": "code",
   "execution_count": 120,
   "id": "e2aacee0",
   "metadata": {},
   "outputs": [
    {
     "name": "stdout",
     "output_type": "stream",
     "text": [
      "Original Array:\n",
      "['apple orange' 'banana kiwi' 'cherry grape' 'date peach']\n",
      "\n",
      "Array after Splitting:\n",
      "[list(['apple', 'orange']) list(['banana', 'kiwi'])\n",
      " list(['cherry', 'grape']) list(['date', 'peach'])]\n"
     ]
    }
   ],
   "source": [
    "arr = np.array(['apple orange', 'banana kiwi', 'cherry grape', 'date peach'])\n",
    "split_arr = np.char.split(arr, sep=' ')\n",
    "print(\"Original Array:\")\n",
    "print(arr)\n",
    "print(\"\\nArray after Splitting:\")\n",
    "print(split_arr)\n"
   ]
  },
  {
   "cell_type": "code",
   "execution_count": 121,
   "id": "2f7b1096",
   "metadata": {},
   "outputs": [
    {
     "name": "stdout",
     "output_type": "stream",
     "text": [
      "Original Array:\n",
      "['Hello' 'World' 'NumPy']\n",
      "\n",
      "Array after Swapcase:\n",
      "['hELLO' 'wORLD' 'nUMpY']\n"
     ]
    }
   ],
   "source": [
    "arr = np.array(['Hello', 'World', 'NumPy'])\n",
    "swapped_arr = np.char.swapcase(arr)\n",
    "print(\"Original Array:\")\n",
    "print(arr)\n",
    "print(\"\\nArray after Swapcase:\")\n",
    "print(swapped_arr)"
   ]
  },
  {
   "cell_type": "code",
   "execution_count": 122,
   "id": "2faf7bb2",
   "metadata": {},
   "outputs": [
    {
     "name": "stdout",
     "output_type": "stream",
     "text": [
      "Original Array:\n",
      "['hello world' 'goodbye cruel world' 'numpy is great']\n",
      "\n",
      "Array after Titlecasing:\n",
      "['Hello World' 'Goodbye Cruel World' 'Numpy Is Great']\n"
     ]
    }
   ],
   "source": [
    "arr = np.array(['hello world', 'goodbye cruel world', 'numpy is great'])\n",
    "\n",
    "# Convert the first character of each word to uppercase\n",
    "titlecased_arr = np.char.title(arr)\n",
    "\n",
    "print(\"Original Array:\")\n",
    "print(arr)\n",
    "\n",
    "print(\"\\nArray after Titlecasing:\")\n",
    "print(titlecased_arr)"
   ]
  },
  {
   "cell_type": "code",
   "execution_count": 123,
   "id": "4abcdc4c",
   "metadata": {},
   "outputs": [
    {
     "name": "stdout",
     "output_type": "stream",
     "text": [
      "Original Array:\n",
      "['Hello' 'World' 'NumPy']\n",
      "\n",
      "Array after Translation:\n",
      "['XYllZ' 'WZrld' 'NumPy']\n"
     ]
    }
   ],
   "source": [
    "\n",
    "arr = np.array(['Hello', 'World', 'NumPy'])\n",
    "translation_table = str.maketrans({'H': 'X', 'e': 'Y', 'o': 'Z'})\n",
    "translated_arr = np.array([s.translate(translation_table) for s in arr])\n",
    "\n",
    "print(\"Original Array:\")\n",
    "print(arr)\n",
    "\n",
    "print(\"\\nArray after Translation:\")\n",
    "print(translated_arr)"
   ]
  },
  {
   "cell_type": "code",
   "execution_count": 124,
   "id": "8542aae2",
   "metadata": {},
   "outputs": [
    {
     "name": "stdout",
     "output_type": "stream",
     "text": [
      "Our strings array is : ['This' 'here' 'Tho'] \n",
      "Result : ['Blis' 'lara' 'Blo']\n"
     ]
    }
   ],
   "source": [
    "str_array = np.array([ \"This\", \"here\", \"Tho\" ])\n",
    "dictionary = { \"T\": \"B\", \"h\": \"l\", \"e\": \"a\", \"a\": \"o\" }\n",
    "table = \"This\".maketrans(dictionary)\n",
    "print( f\"Our strings array is : {str_array} \" )\n",
    "print( f\"Result : { np.char.translate(str_array, table, deletechars=None) }\")"
   ]
  },
  {
   "cell_type": "code",
   "execution_count": 125,
   "id": "3513041d",
   "metadata": {},
   "outputs": [
    {
     "name": "stdout",
     "output_type": "stream",
     "text": [
      "Original Array:\n",
      "['42' '123' '7' '9876']\n",
      "\n",
      "Array after Zfill (Width = 5):\n",
      "['00042' '00123' '00007' '09876']\n"
     ]
    }
   ],
   "source": [
    "arr = np.array(['42', '123', '7', '9876'])\n",
    "width = 5\n",
    "zfilled_arr = np.core.defchararray.zfill(arr, width)\n",
    "\n",
    "print(\"Original Array:\")\n",
    "print(arr)\n",
    "\n",
    "print(f\"\\nArray after Zfill (Width = {width}):\")\n",
    "print(zfilled_arr)"
   ]
  },
  {
   "cell_type": "code",
   "execution_count": 126,
   "id": "f200a899",
   "metadata": {},
   "outputs": [
    {
     "name": "stdout",
     "output_type": "stream",
     "text": [
      " Our strings array is : ['Hello' 'World'] \n",
      " Type of strings array is : <class 'numpy.chararray'> and type of data is : <class 'str'>\n"
     ]
    }
   ],
   "source": [
    "a = \"Hello\"\n",
    "b = \"World\"\n",
    "str_array = np.char.array([a,b])\n",
    "print( f\" Our strings array is : {str_array} \" )\n",
    "print( f\" Type of strings array is : {type(str_array)} and type of data is : {type(str_array[1])}\" )"
   ]
  }
 ],
 "metadata": {
  "kernelspec": {
   "display_name": "Python 3 (ipykernel)",
   "language": "python",
   "name": "python3"
  },
  "language_info": {
   "codemirror_mode": {
    "name": "ipython",
    "version": 3
   },
   "file_extension": ".py",
   "mimetype": "text/x-python",
   "name": "python",
   "nbconvert_exporter": "python",
   "pygments_lexer": "ipython3",
   "version": "3.11.5"
  }
 },
 "nbformat": 4,
 "nbformat_minor": 5
}
